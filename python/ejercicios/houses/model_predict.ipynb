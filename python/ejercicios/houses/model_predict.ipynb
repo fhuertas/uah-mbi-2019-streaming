{
 "cells": [
  {
   "cell_type": "markdown",
   "metadata": {},
   "source": [
    "# Generador de predicciones\n",
    "\n",
    "Este script pretende ser una simplificación del proceso que recibiría peticiones de un sitio web en el que un usuario solicita una estimación del precio de una casa ofrecida en el catálogo. No hay relación alguna con Kafka: las entradas son el fichero `unknown_target.csv`, que sería el catálogo mostrado en la web, el modelo ya entrenado y el valor `INDEX`, que nos permite acceder fácilmente a uno de los registros del fichero."
   ]
  },
  {
   "cell_type": "code",
   "execution_count": null,
   "metadata": {},
   "outputs": [],
   "source": [
    "import pickle\n",
    "from ejercicios.houses import MODEL_STORE, UNKNOWN\n",
    "\n",
    "f = open(MODEL_STORE, 'rb')\n",
    "model = pickle.load(f)"
   ]
  },
  {
   "cell_type": "code",
   "execution_count": null,
   "metadata": {},
   "outputs": [],
   "source": [
    "import pandas as pd\n",
    "ds = pd.read_csv(UNKNOWN)\n",
    "features = list(ds.columns)\n",
    "features.remove('id')\n",
    "ds = ds[features]"
   ]
  },
  {
   "cell_type": "code",
   "execution_count": null,
   "metadata": {},
   "outputs": [],
   "source": [
    "ds.head()"
   ]
  },
  {
   "cell_type": "code",
   "execution_count": null,
   "metadata": {},
   "outputs": [],
   "source": [
    "INDEX = 3\n",
    "\n",
    "house = ds.iloc[INDEX:INDEX+1]\n",
    "print(\"Predicted price: {:.2f}$\".format(model.predict(house)[0]))\n",
    "house.head()"
   ]
  },
  {
   "cell_type": "code",
   "execution_count": null,
   "metadata": {},
   "outputs": [],
   "source": []
  }
 ],
 "metadata": {
  "kernelspec": {
   "display_name": "Python 3",
   "language": "python",
   "name": "python3"
  },
  "language_info": {
   "codemirror_mode": {
    "name": "ipython",
    "version": 3
   },
   "file_extension": ".py",
   "mimetype": "text/x-python",
   "name": "python",
   "nbconvert_exporter": "python",
   "pygments_lexer": "ipython3",
   "version": "3.7.2"
  }
 },
 "nbformat": 4,
 "nbformat_minor": 2
}
