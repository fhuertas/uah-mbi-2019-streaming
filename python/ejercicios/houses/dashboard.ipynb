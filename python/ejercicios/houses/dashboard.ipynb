{
 "cells": [
  {
   "cell_type": "markdown",
   "metadata": {},
   "source": [
    "# Dashboard\n",
    "\n",
    "El dashboard no es más que un Consumer de Kafka que leerá del topic que hemos generado con KSQL. Hemos de añadir lógica que nos permita detectar cuándo se ha cerrado una ventana: Kafka empieza a generar mensajes en el topic de salida en cuanto empieza una ventana, incluso aunque luego tenga que actualizar un valor agregado porque hayan aparecido nuevos mensajes en el topic de entrada. Para evitar mostrar datos *intermedios* hemos optado por almacenar los datos de una ventana, actualizando los datos con cada nuevo mensaje, y sólo imprimiendo la ventana cuando ya hemos entrado en una nueva.\n",
    "\n",
    "Nuestra aplicación no es muy sensible a los tiempos en los que aparecen los mensajes, así que un dashboard sencillo como este podría ser necesario. Si estuviéramos trabajando con datos de IOT o con registros en tiempo real de verdad habría que tener en cuenta que KSQL puede **actualizar** una ventana antigua con mensajes que hayan llegado *tarde* (por ejemplo, porque el broker que ha procesado ese mensaje ha tenido un pico de carga).\n"
   ]
  },
  {
   "cell_type": "code",
   "execution_count": null,
   "metadata": {},
   "outputs": [],
   "source": [
    "from confluent_kafka import Consumer, KafkaError\n",
    "import time\n",
    "import json\n",
    "\n",
    "from ejercicios.houses import TOPIC_DASHBOARD, DASHBOARD_GROUP"
   ]
  },
  {
   "cell_type": "code",
   "execution_count": null,
   "metadata": {},
   "outputs": [],
   "source": [
    "# función auxiliar para imprimir de forma legible los datos de una ventana\n",
    "# Cada ventana tiene el siguiente formato:\n",
    "#     {\n",
    "#         '1980': {'NUM_HOUSES': 2, 'AVG_PRICE': 10000.0},\n",
    "#         '1990': {'NUM_HOUSES': 3, 'AVG_PRICE': 20000.0},\n",
    "#         '2000': {'NUM_HOUSES': 1, 'AVG_PRICE': 50000.0},\n",
    "#     }\n",
    "\n",
    "def print_window(window):\n",
    "    years = sorted(window.keys())\n",
    "    for year in years:\n",
    "        year_data = window[year]\n",
    "        print(\"{}: {} houses at {:.2f}$\".format(year, year_data['NUM_HOUSES'], year_data['AVG_PRICE']))"
   ]
  },
  {
   "cell_type": "code",
   "execution_count": null,
   "metadata": {},
   "outputs": [],
   "source": [
    "c = Consumer({\n",
    "    'bootstrap.servers': 'localhost:9092',\n",
    "    'group.id': DASHBOARD_GROUP,\n",
    "    'auto.offset.reset': 'earliest'\n",
    "})\n",
    "c.subscribe([TOPIC_DASHBOARD])\n",
    "\n",
    "LATEST_WINDOW_END = 0\n",
    "WINDOWS = {}\n",
    "\n",
    "\n",
    "while True:\n",
    "    msg = c.poll(1.0)\n",
    "\n",
    "\n",
    "    if msg is None:\n",
    "        continue\n",
    "\n",
    "    if msg.error():\n",
    "        print(\"Consumer error: {}\".format(msg.error()))\n",
    "        continue\n",
    "\n",
    "    #print(msg.value())\n",
    "    entry = json.loads(msg.value())\n",
    "    if entry['WINDOW_END'] not in WINDOWS:\n",
    "        WINDOWS[entry['WINDOW_END']] = {}  # inicializamos una ventana\n",
    "\n",
    "    # Escribimos los estadísticos de una década en la ventana actual. Si ya hemos recibido\n",
    "    # datos de esa década para este ventana con anterioridad, lo sobreescribimos.\n",
    "    WINDOWS[entry['WINDOW_END']][entry['DECADE_BUILT']] = {'AVG_PRICE': entry['AVG_PRICE'], 'NUM_HOUSES': entry['NUM_HOUSES']}\n",
    "\n",
    "\n",
    "    # Cambio de ventana: el mensaje tiene un tiempo de inicio de ventana posterior al final de ventana\n",
    "    # más avanzado que hemos visto hasta ahora\n",
    "    if entry['WINDOW_START'] >= LATEST_WINDOW_END and LATEST_WINDOW_END in WINDOWS:\n",
    "        print_window(WINDOWS[LATEST_WINDOW_END])\n",
    "\n",
    "    # Guardamos el final de ventana más avanzado que hemos visto hasta ahora\n",
    "    LATEST_WINDOW_END = entry['WINDOW_END']\n",
    "    print(\"*\"*20)\n",
    "\n",
    "c.close()"
   ]
  },
  {
   "cell_type": "code",
   "execution_count": null,
   "metadata": {},
   "outputs": [],
   "source": []
  }
 ],
 "metadata": {
  "kernelspec": {
   "display_name": "Python 3",
   "language": "python",
   "name": "python3"
  },
  "language_info": {
   "codemirror_mode": {
    "name": "ipython",
    "version": 3
   },
   "file_extension": ".py",
   "mimetype": "text/x-python",
   "name": "python",
   "nbconvert_exporter": "python",
   "pygments_lexer": "ipython3",
   "version": "3.7.2"
  }
 },
 "nbformat": 4,
 "nbformat_minor": 2
}
