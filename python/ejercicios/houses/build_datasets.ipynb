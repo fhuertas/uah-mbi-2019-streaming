{
 "cells": [
  {
   "cell_type": "markdown",
   "metadata": {},
   "source": [
    "# Preparación de datasets\n",
    "\n",
    "En este pequeño script tomamos el dataset original de kaggle [House Sales in King County](https://www.kaggle.com/harlfoxem/housesalesprediction) y lo dividimos en 3 ficheros:\n",
    "- historic: simulará la base de datos histórica de ventas (es decir, casas ya vendidas de las que disponemos de todas las features y del precio al que se vendieron),\n",
    "- to_stream: servirá como origen de datos para un generador pseudoaleatorio de \"casas vendidas\" (también disponemos de todas las features y del precio al que se acaba de vender, pero en el momento de entrar al stream no han alimentado aún el modelo),\n",
    "- unknown_target: simulará una base de datos de casas actualmente en venta (disponemos de las features pero aún no se han vendido y por tanto no conocemos su target.\n",
    "\n",
    "Cada dataset contendrá, respectivamente, un 40%, 50% y 10% del original.\n",
    "\n",
    "Hemos hecho un pequeño descarte inicial de varias columnas para simplificar el ejercicio.\n"
   ]
  },
  {
   "cell_type": "code",
   "execution_count": 1,
   "metadata": {},
   "outputs": [],
   "source": [
    "import pandas as pd\n",
    "import numpy as np\n",
    "from ejercicios.houses import SEED, HISTORIC, TO_STREAM, UNKNOWN\n",
    "np.random.seed(SEED)"
   ]
  },
  {
   "cell_type": "code",
   "execution_count": 2,
   "metadata": {},
   "outputs": [],
   "source": [
    "ds = pd.read_csv('data/kc_house_data.csv')\n",
    "features = list(ds.columns)\n",
    "features.remove('date')\n",
    "features.remove('condition')\n",
    "features.remove('grade')\n",
    "features.remove('zipcode')\n",
    "features.remove('lat')\n",
    "features.remove('long')\n",
    "features.remove('sqft_basement')\n",
    "features.remove('sqft_above')\n",
    "features.remove('sqft_living15')\n",
    "features.remove('sqft_lot15')\n",
    "features.remove('yr_renovated')\n",
    "\n",
    "ds = ds[features]\n"
   ]
  },
  {
   "cell_type": "code",
   "execution_count": 3,
   "metadata": {},
   "outputs": [],
   "source": [
    "mask = np.random.rand(len(ds)) < 0.5\n",
    "static = ds[mask]\n",
    "to_stream = ds[~mask]"
   ]
  },
  {
   "cell_type": "code",
   "execution_count": 4,
   "metadata": {},
   "outputs": [],
   "source": [
    "mask = np.random.rand(len(static)) < 0.8\n",
    "historic = static[mask]\n",
    "unknown_target = static[~mask]\n",
    "\n",
    "features.remove('price')\n",
    "unknown_target = unknown_target[features]"
   ]
  },
  {
   "cell_type": "code",
   "execution_count": 5,
   "metadata": {},
   "outputs": [],
   "source": [
    "historic.to_csv(HISTORIC, index=False)\n",
    "to_stream.to_csv(TO_STREAM, index=False)\n",
    "unknown_target.to_csv(UNKNOWN, index=False)"
   ]
  },
  {
   "cell_type": "code",
   "execution_count": null,
   "metadata": {},
   "outputs": [],
   "source": []
  }
 ],
 "metadata": {
  "kernelspec": {
   "display_name": "Python 3",
   "language": "python",
   "name": "python3"
  },
  "language_info": {
   "codemirror_mode": {
    "name": "ipython",
    "version": 3
   },
   "file_extension": ".py",
   "mimetype": "text/x-python",
   "name": "python",
   "nbconvert_exporter": "python",
   "pygments_lexer": "ipython3",
   "version": "3.7.2"
  }
 },
 "nbformat": 4,
 "nbformat_minor": 2
}
