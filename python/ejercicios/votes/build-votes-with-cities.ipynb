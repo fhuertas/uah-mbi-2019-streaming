{
 "cells": [
  {
   "cell_type": "markdown",
   "metadata": {},
   "source": [
    "# Preparación del CSV de votos\n",
    "\n",
    "Este script se limita a leer el CSV que contiene el número de votos por partido y municipio y lo normaliza. Además lo combina con el CSV con los datos de municipios, de manera que el CSV que genera incluye el código del municipio, la comunidad, la provicia, el municipio, el partido y el número de votos. Se ha usado Spark, pero cualquier otro método (pandas, por ejemplo) sería perfectamente válido.\n",
    "\n",
    "Sólo se debe usar este CSV si no se consigue avanzar con la combinación de ambos datasets en KSQL o en Spark Streaming."
   ]
  },
  {
   "cell_type": "code",
   "execution_count": 51,
   "metadata": {},
   "outputs": [],
   "source": [
    "from pyspark.sql import SparkSession\n",
    "from pyspark.sql.functions import col\n",
    "import pyspark.sql.functions as fn\n",
    "\n",
    "spark = SparkSession \\\n",
    "    .builder \\\n",
    "    .appName(\"buildvoteswithcities\") \\\n",
    "    .getOrCreate()"
   ]
  },
  {
   "cell_type": "code",
   "execution_count": 52,
   "metadata": {},
   "outputs": [],
   "source": [
    "df_votes = spark.read.csv('votos-elecciones.csv', sep=\";\", header=True)"
   ]
  },
  {
   "cell_type": "code",
   "execution_count": 53,
   "metadata": {},
   "outputs": [
    {
     "data": {
      "text/plain": [
       "['Codigo',\n",
       " 'Mesas',\n",
       " 'Censo',\n",
       " 'Votantes',\n",
       " 'Validos',\n",
       " 'Blanco',\n",
       " 'Nulos',\n",
       " 'PP',\n",
       " 'PSOE',\n",
       " 'PODEMOS_IU_EQUO',\n",
       " 'Cs',\n",
       " 'ECP',\n",
       " 'PODEMOS_COMPROMIS_EUPV',\n",
       " 'ERC_CATS',\n",
       " 'CDC',\n",
       " 'PODEMOS_EN_MAREA_ANOVA_EU',\n",
       " 'EAJ_PNV',\n",
       " 'EH_Bildu',\n",
       " 'CCa_PNC',\n",
       " 'PACMA',\n",
       " 'RECORTES_CERO_GRUPO_VERDE',\n",
       " 'UPyD',\n",
       " 'VOX',\n",
       " 'BNG_NS',\n",
       " 'PCPE',\n",
       " 'GBAI',\n",
       " 'EB',\n",
       " 'FE_de_las_JONS',\n",
       " 'SI',\n",
       " 'SOMVAL',\n",
       " 'CCD',\n",
       " 'SAIn',\n",
       " 'PH',\n",
       " 'CENTRO_MODERADO',\n",
       " 'P_LIB',\n",
       " 'CCD_CI',\n",
       " 'UPL',\n",
       " 'PCOE',\n",
       " 'AND',\n",
       " 'JXC',\n",
       " 'PFyV',\n",
       " 'CILUS',\n",
       " 'PxC',\n",
       " 'MAS',\n",
       " 'IZAR',\n",
       " 'UNIDAD_DEL_PUEBLO',\n",
       " 'PREPAL',\n",
       " 'Ln',\n",
       " 'REPO',\n",
       " 'INDEPENDIENTES_FIA',\n",
       " 'ENTABAN',\n",
       " 'IMC',\n",
       " 'PUEDE',\n",
       " 'FE',\n",
       " 'ALCD',\n",
       " 'FME',\n",
       " 'HRTS_Ln',\n",
       " 'UDT']"
      ]
     },
     "execution_count": 53,
     "metadata": {},
     "output_type": "execute_result"
    }
   ],
   "source": [
    "parties = df_votes.columns\n",
    "parties"
   ]
  },
  {
   "cell_type": "code",
   "execution_count": 54,
   "metadata": {},
   "outputs": [],
   "source": [
    "parties.remove('Codigo')\n",
    "parties.remove('Mesas')\n",
    "parties.remove('Censo')\n",
    "parties.remove('Votantes')\n",
    "parties.remove('Validos')\n",
    "\n"
   ]
  },
  {
   "cell_type": "code",
   "execution_count": 55,
   "metadata": {},
   "outputs": [
    {
     "data": {
      "text/plain": [
       "53"
      ]
     },
     "execution_count": 55,
     "metadata": {},
     "output_type": "execute_result"
    }
   ],
   "source": [
    "len(parties)"
   ]
  },
  {
   "cell_type": "code",
   "execution_count": 56,
   "metadata": {},
   "outputs": [
    {
     "name": "stdout",
     "output_type": "stream",
     "text": [
      "[\"'Blanco', Blanco\", \"'Nulos', Nulos\", \"'PP', PP\", \"'PSOE', PSOE\", \"'PODEMOS_IU_EQUO', PODEMOS_IU_EQUO\", \"'Cs', Cs\", \"'ECP', ECP\", \"'PODEMOS_COMPROMIS_EUPV', PODEMOS_COMPROMIS_EUPV\", \"'ERC_CATS', ERC_CATS\", \"'CDC', CDC\", \"'PODEMOS_EN_MAREA_ANOVA_EU', PODEMOS_EN_MAREA_ANOVA_EU\", \"'EAJ_PNV', EAJ_PNV\", \"'EH_Bildu', EH_Bildu\", \"'CCa_PNC', CCa_PNC\", \"'PACMA', PACMA\", \"'RECORTES_CERO_GRUPO_VERDE', RECORTES_CERO_GRUPO_VERDE\", \"'UPyD', UPyD\", \"'VOX', VOX\", \"'BNG_NS', BNG_NS\", \"'PCPE', PCPE\", \"'GBAI', GBAI\", \"'EB', EB\", \"'FE_de_las_JONS', FE_de_las_JONS\", \"'SI', SI\", \"'SOMVAL', SOMVAL\", \"'CCD', CCD\", \"'SAIn', SAIn\", \"'PH', PH\", \"'CENTRO_MODERADO', CENTRO_MODERADO\", \"'P_LIB', P_LIB\", \"'CCD_CI', CCD_CI\", \"'UPL', UPL\", \"'PCOE', PCOE\", \"'AND', AND\", \"'JXC', JXC\", \"'PFyV', PFyV\", \"'CILUS', CILUS\", \"'PxC', PxC\", \"'MAS', MAS\", \"'IZAR', IZAR\", \"'UNIDAD_DEL_PUEBLO', UNIDAD_DEL_PUEBLO\", \"'PREPAL', PREPAL\", \"'Ln', Ln\", \"'REPO', REPO\", \"'INDEPENDIENTES_FIA', INDEPENDIENTES_FIA\", \"'ENTABAN', ENTABAN\", \"'IMC', IMC\", \"'PUEDE', PUEDE\", \"'FE', FE\", \"'ALCD', ALCD\", \"'FME', FME\", \"'HRTS_Ln', HRTS_Ln\", \"'UDT', UDT\"]\n",
      "'Blanco', Blanco, 'Nulos', Nulos, 'PP', PP, 'PSOE', PSOE, 'PODEMOS_IU_EQUO', PODEMOS_IU_EQUO, 'Cs', Cs, 'ECP', ECP, 'PODEMOS_COMPROMIS_EUPV', PODEMOS_COMPROMIS_EUPV, 'ERC_CATS', ERC_CATS, 'CDC', CDC, 'PODEMOS_EN_MAREA_ANOVA_EU', PODEMOS_EN_MAREA_ANOVA_EU, 'EAJ_PNV', EAJ_PNV, 'EH_Bildu', EH_Bildu, 'CCa_PNC', CCa_PNC, 'PACMA', PACMA, 'RECORTES_CERO_GRUPO_VERDE', RECORTES_CERO_GRUPO_VERDE, 'UPyD', UPyD, 'VOX', VOX, 'BNG_NS', BNG_NS, 'PCPE', PCPE, 'GBAI', GBAI, 'EB', EB, 'FE_de_las_JONS', FE_de_las_JONS, 'SI', SI, 'SOMVAL', SOMVAL, 'CCD', CCD, 'SAIn', SAIn, 'PH', PH, 'CENTRO_MODERADO', CENTRO_MODERADO, 'P_LIB', P_LIB, 'CCD_CI', CCD_CI, 'UPL', UPL, 'PCOE', PCOE, 'AND', AND, 'JXC', JXC, 'PFyV', PFyV, 'CILUS', CILUS, 'PxC', PxC, 'MAS', MAS, 'IZAR', IZAR, 'UNIDAD_DEL_PUEBLO', UNIDAD_DEL_PUEBLO, 'PREPAL', PREPAL, 'Ln', Ln, 'REPO', REPO, 'INDEPENDIENTES_FIA', INDEPENDIENTES_FIA, 'ENTABAN', ENTABAN, 'IMC', IMC, 'PUEDE', PUEDE, 'FE', FE, 'ALCD', ALCD, 'FME', FME, 'HRTS_Ln', HRTS_Ln, 'UDT', UDT\n"
     ]
    }
   ],
   "source": [
    "array_of_cols = [\"'{0}', {0}\".format(p) for p in parties]\n",
    "print(array_of_cols)\n",
    "\n",
    "string_of_cols = \", \".join(array_of_cols)\n",
    "print(string_of_cols)"
   ]
  },
  {
   "cell_type": "code",
   "execution_count": 75,
   "metadata": {},
   "outputs": [],
   "source": [
    "df_votes_expl = df_votes.select('Codigo', 'Mesas', 'Censo', 'Votantes', 'Validos',\n",
    "                                fn.expr(\"stack(\" + str(len(parties)) + \", \" + string_of_cols + \") as (Partido, Votos)\")).\\\n",
    "                where(col('Votos') > 0)\n"
   ]
  },
  {
   "cell_type": "code",
   "execution_count": 76,
   "metadata": {},
   "outputs": [
    {
     "name": "stdout",
     "output_type": "stream",
     "text": [
      "+------+-----+-----+--------+-------+--------------------+-----+\n",
      "|Codigo|Mesas|Censo|Votantes|Validos|             Partido|Votos|\n",
      "+------+-----+-----+--------+-------+--------------------+-----+\n",
      "|  4001|    2| 1062|     823|    814|              Blanco|    5|\n",
      "|  4001|    2| 1062|     823|    814|               Nulos|    9|\n",
      "|  4001|    2| 1062|     823|    814|                  PP|  267|\n",
      "|  4001|    2| 1062|     823|    814|                PSOE|  356|\n",
      "|  4001|    2| 1062|     823|    814|     PODEMOS_IU_EQUO|   65|\n",
      "|  4001|    2| 1062|     823|    814|                  Cs|  110|\n",
      "|  4001|    2| 1062|     823|    814|               PACMA|    4|\n",
      "|  4001|    2| 1062|     823|    814|                UPyD|    4|\n",
      "|  4001|    2| 1062|     823|    814|                PCPE|    1|\n",
      "|  4001|    2| 1062|     823|    814|                  EB|    2|\n",
      "|  4002|    2| 1039|     748|    740|              Blanco|    2|\n",
      "|  4002|    2| 1039|     748|    740|               Nulos|    8|\n",
      "|  4002|    2| 1039|     748|    740|                  PP|  212|\n",
      "|  4002|    2| 1039|     748|    740|                PSOE|  342|\n",
      "|  4002|    2| 1039|     748|    740|     PODEMOS_IU_EQUO|   79|\n",
      "|  4002|    2| 1039|     748|    740|                  Cs|   93|\n",
      "|  4002|    2| 1039|     748|    740|               PACMA|    3|\n",
      "|  4002|    2| 1039|     748|    740|RECORTES_CERO_GRU...|    1|\n",
      "|  4002|    2| 1039|     748|    740|                UPyD|    3|\n",
      "|  4002|    2| 1039|     748|    740|                  EB|    2|\n",
      "+------+-----+-----+--------+-------+--------------------+-----+\n",
      "only showing top 20 rows\n",
      "\n"
     ]
    }
   ],
   "source": [
    "df_votes_expl.show()"
   ]
  },
  {
   "cell_type": "code",
   "execution_count": 77,
   "metadata": {},
   "outputs": [],
   "source": [
    "df_cities = spark.read.csv('PECMunicipios.csv', sep=\";\", header=True, encoding='ISO-8859-1')"
   ]
  },
  {
   "cell_type": "code",
   "execution_count": 78,
   "metadata": {},
   "outputs": [],
   "source": [
    "df_cities = df_cities.withColumn('Comunidad', fn.trim(col('Comunidad'))).\\\n",
    "    withColumn('Provincia', fn.trim(col('Provincia'))).\\\n",
    "    withColumn('Municipio', fn.trim(col('Municipio'))).\\\n",
    "    withColumnRenamed('Codigo', 'CodigoPoblacion')\n"
   ]
  },
  {
   "cell_type": "code",
   "execution_count": 79,
   "metadata": {},
   "outputs": [
    {
     "data": {
      "text/plain": [
       "[Row(CodigoPoblacion='4001', Comunidad='Andalucía', Provincia='Almería', Municipio='Abla', Poblacion='1342')]"
      ]
     },
     "execution_count": 79,
     "metadata": {},
     "output_type": "execute_result"
    }
   ],
   "source": [
    "df_cities.take(1)"
   ]
  },
  {
   "cell_type": "code",
   "execution_count": 80,
   "metadata": {},
   "outputs": [],
   "source": [
    "df_result = df_cities.join(df_votes_expl, df_cities.CodigoPoblacion == df_votes_expl.Codigo, how='inner').\\\n",
    "    drop('CodigoPoblacion', 'Censo', 'Votantes', 'Validos', 'Mesas')"
   ]
  },
  {
   "cell_type": "code",
   "execution_count": 81,
   "metadata": {},
   "outputs": [
    {
     "name": "stdout",
     "output_type": "stream",
     "text": [
      "root\n",
      " |-- Comunidad: string (nullable = true)\n",
      " |-- Provincia: string (nullable = true)\n",
      " |-- Municipio: string (nullable = true)\n",
      " |-- Poblacion: string (nullable = true)\n",
      " |-- Codigo: string (nullable = true)\n",
      " |-- Partido: string (nullable = true)\n",
      " |-- Votos: string (nullable = true)\n",
      "\n"
     ]
    }
   ],
   "source": [
    "df_result.printSchema()"
   ]
  },
  {
   "cell_type": "code",
   "execution_count": 83,
   "metadata": {},
   "outputs": [],
   "source": [
    "df_result.write.csv('votes', header=True)"
   ]
  },
  {
   "cell_type": "code",
   "execution_count": 84,
   "metadata": {},
   "outputs": [],
   "source": [
    "!mv votes/part*.csv votes.csv"
   ]
  },
  {
   "cell_type": "code",
   "execution_count": null,
   "metadata": {},
   "outputs": [],
   "source": []
  }
 ],
 "metadata": {
  "kernelspec": {
   "display_name": "Python 3",
   "language": "python",
   "name": "python3"
  },
  "language_info": {
   "codemirror_mode": {
    "name": "ipython",
    "version": 3
   },
   "file_extension": ".py",
   "mimetype": "text/x-python",
   "name": "python",
   "nbconvert_exporter": "python",
   "pygments_lexer": "ipython3",
   "version": "3.7.2"
  }
 },
 "nbformat": 4,
 "nbformat_minor": 2
}
