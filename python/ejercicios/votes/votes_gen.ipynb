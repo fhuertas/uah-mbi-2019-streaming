{
 "cells": [
  {
   "cell_type": "markdown",
   "metadata": {},
   "source": [
    "# Generador de votos\n",
    "\n",
    "Este simulador de votos lee la tabla de votos y emite un voto cada intervalo de tiempo. Además actualiza el número de votos pendientes que quedan por emitir para cada municipio y cada partido. Idealmente, los votos aparecerían en el stream sin intervalos fijos y podrían llegar en rachas, pero gracias a Kafka podemos escribir la aplicación de procesado del stream sin tener en cuenta esas consideraciones."
   ]
  },
  {
   "cell_type": "code",
   "execution_count": null,
   "metadata": {},
   "outputs": [],
   "source": [
    "import pandas as pd\n",
    "from confluent_kafka import Producer\n",
    "import time\n",
    "import json\n",
    "import random\n",
    "import uuid\n",
    "\n",
    "from ejercicios.votes import SEED, TOPIC_VOTES, DATA\n",
    "random.seed(SEED)"
   ]
  },
  {
   "cell_type": "code",
   "execution_count": null,
   "metadata": {},
   "outputs": [],
   "source": [
    "ds = pd.read_csv(DATA)\n",
    "ds.head()"
   ]
  },
  {
   "cell_type": "code",
   "execution_count": null,
   "metadata": {},
   "outputs": [],
   "source": [
    "def choose_partition(num_partitions, key):\n",
    "    if num_partitions == 1 or key is None:\n",
    "        return 0\n",
    "    else:\n",
    "        try:\n",
    "            as_num = int(key[0], base=16)\n",
    "            return as_num % num_partitions\n",
    "        except:\n",
    "            return 0\n"
   ]
  },
  {
   "cell_type": "code",
   "execution_count": null,
   "metadata": {},
   "outputs": [],
   "source": [
    "ds['Votos'].sum()"
   ]
  },
  {
   "cell_type": "code",
   "execution_count": null,
   "metadata": {},
   "outputs": [],
   "source": [
    "p = Producer({'bootstrap.servers': 'localhost:9092'})\n",
    "m = None\n",
    "def delivery_report(err, msg):\n",
    "    \"\"\" Called once for each message produced to indicate delivery result.\n",
    "        Triggered by poll() or flush(). \"\"\"\n",
    "    if err is not None:\n",
    "        print('Message delivery failed: {}'.format(err))\n",
    "    else:\n",
    "        pass\n",
    "\n",
    "while True:\n",
    "    # Trigger any available delivery report callbacks from previous produce() calls\n",
    "    p.poll(0)\n",
    "    topic_list = p.list_topics(TOPIC_VOTES)\n",
    "    topic_metadata = topic_list.topics[TOPIC_VOTES]\n",
    "    num_partitions = len(topic_metadata.partitions.keys())\n",
    "    \n",
    "    vote_id = str(uuid.uuid4())\n",
    "\n",
    "    if ds.size == 0:\n",
    "        print('All votes sent!')\n",
    "        break\n",
    "\n",
    "    vote = ds.sample(n=1)\n",
    "    m = vote\n",
    "    as_dict = vote.to_dict('records')[0]\n",
    "    num_votos = as_dict['Votos']\n",
    "    as_dict.pop('Votos')\n",
    "\n",
    "    p.produce(TOPIC_VOTES,\n",
    "              key=vote_id,\n",
    "              partition=choose_partition(num_partitions, vote_id),\n",
    "              value=json.dumps(as_dict).encode('utf-8'),\n",
    "              callback=delivery_report)\n",
    "    \n",
    "    if num_votos == 1:\n",
    "        ds = ds.drop(index=vote.index, axis=0)\n",
    "        print('Removing {}'.format(as_dict))\n",
    "    else:\n",
    "        ds.at[vote.index, 'Votos'] = num_votos - 1\n",
    "\n",
    "    time.sleep(1)\n",
    "\n",
    "p.flush()\n",
    "\n"
   ]
  },
  {
   "cell_type": "code",
   "execution_count": null,
   "metadata": {},
   "outputs": [],
   "source": [
    "ds['Votos'].sum()"
   ]
  },
  {
   "cell_type": "code",
   "execution_count": null,
   "metadata": {},
   "outputs": [],
   "source": []
  }
 ],
 "metadata": {
  "kernelspec": {
   "display_name": "Python 3",
   "language": "python",
   "name": "python3"
  },
  "language_info": {
   "codemirror_mode": {
    "name": "ipython",
    "version": 3
   },
   "file_extension": ".py",
   "mimetype": "text/x-python",
   "name": "python",
   "nbconvert_exporter": "python",
   "pygments_lexer": "ipython3",
   "version": "3.7.2"
  }
 },
 "nbformat": 4,
 "nbformat_minor": 2
}
