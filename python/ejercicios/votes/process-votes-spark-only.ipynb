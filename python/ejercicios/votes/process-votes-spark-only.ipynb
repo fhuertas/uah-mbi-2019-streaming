{
 "cells": [
  {
   "cell_type": "markdown",
   "metadata": {},
   "source": [
    "# Procesado de votos con join en Spark\n",
    "\n",
    "Este notebook es una alternativa a `process-votes-with-KSQL`. En este caso leeremos la tabla de municipios directamente en Spark, en vez de depender del preprocesado con Connect y KSQL. Este notebook simplemente incluye el join y la consulta del dashboard principal. El otro notebook incluye consultas intermedias para practicar con el procesado de streams en spark."
   ]
  },
  {
   "cell_type": "code",
   "execution_count": 1,
   "metadata": {},
   "outputs": [],
   "source": [
    "from pyspark.sql import SparkSession\n",
    "from pyspark.sql.functions import explode\n",
    "from pyspark.sql.functions import split\n",
    "from pyspark.sql.functions import from_json\n",
    "from pyspark.sql.functions import col\n",
    "import pyspark.sql.functions as fn\n",
    "from pyspark.sql.types import StructType, StructField, StringType, IntegerType\n",
    "\n",
    "PACKAGES = \"org.apache.spark:spark-sql-kafka-0-10_2.11:2.4.0,org.xerial:sqlite-jdbc:3.27.2\"\n",
    "spark = SparkSession \\\n",
    "    .builder \\\n",
    "    .appName(\"StructuredVotesSparkOnly\") \\\n",
    "    .config(\"spark.jars.packages\", PACKAGES)\\\n",
    "    .getOrCreate()\n",
    "\n"
   ]
  },
  {
   "cell_type": "code",
   "execution_count": 2,
   "metadata": {},
   "outputs": [],
   "source": [
    "from ejercicios.votes import TOPIC_VOTES"
   ]
  },
  {
   "cell_type": "markdown",
   "metadata": {},
   "source": [
    "La lectura desde un SQL en Spark es tan sencilla como:"
   ]
  },
  {
   "cell_type": "code",
   "execution_count": 3,
   "metadata": {},
   "outputs": [],
   "source": [
    "properties = {'driver': 'org.sqlite.JDBC', 'date_string_format': 'yyyy-MM-dd HH:mm:ss'}\n",
    "municipios = spark.read.jdbc(\"jdbc:sqlite:/tmp/municipios.db\", \"municipios\", properties=properties) \\\n",
    "    .withColumnRenamed('Codigo', 'CODIGO') \\\n",
    "    .withColumnRenamed('Comunidad', 'COMUNIDAD') \\\n",
    "    .withColumnRenamed('Provincia', 'PROVINCIA') \\\n",
    "    .withColumnRenamed('Municipio', 'MUNICIPIO') \\"
   ]
  },
  {
   "cell_type": "code",
   "execution_count": 4,
   "metadata": {},
   "outputs": [
    {
     "name": "stdout",
     "output_type": "stream",
     "text": [
      "+------+---------+---------+---------+---------+\n",
      "|CODIGO|COMUNIDAD|PROVINCIA|MUNICIPIO|Poblacion|\n",
      "+------+---------+---------+---------+---------+\n",
      "|4001  |Andalucía|Almería  |Abla     |1342     |\n",
      "|4002  |Andalucía|Almería  |Abrucena |1279     |\n",
      "|4003  |Andalucía|Almería  |Adra     |24670    |\n",
      "|4004  |Andalucía|Almería  |Albánchez|805      |\n",
      "|4005  |Andalucía|Almería  |Alboloduy|653      |\n",
      "+------+---------+---------+---------+---------+\n",
      "only showing top 5 rows\n",
      "\n"
     ]
    }
   ],
   "source": [
    "municipios.show(5, False)"
   ]
  },
  {
   "cell_type": "code",
   "execution_count": 18,
   "metadata": {},
   "outputs": [
    {
     "name": "stdout",
     "output_type": "stream",
     "text": [
      "root\n",
      " |-- CODIGO: integer (nullable = true)\n",
      " |-- COMUNIDAD: string (nullable = true)\n",
      " |-- PROVINCIA: string (nullable = true)\n",
      " |-- MUNICIPIO: string (nullable = true)\n",
      " |-- Poblacion: integer (nullable = true)\n",
      "\n"
     ]
    }
   ],
   "source": [
    "municipios.printSchema()"
   ]
  },
  {
   "cell_type": "markdown",
   "metadata": {},
   "source": [
    "Ahora leemos el topic de VOTES, en vez de VOTES_ENRICHED."
   ]
  },
  {
   "cell_type": "code",
   "execution_count": 5,
   "metadata": {},
   "outputs": [],
   "source": [
    "df = spark \\\n",
    "  .readStream \\\n",
    "  .format(\"kafka\") \\\n",
    "  .option(\"kafka.bootstrap.servers\", \"localhost:9092\") \\\n",
    "  .option(\"startingOffsets\", \"earliest\") \\\n",
    "  .option(\"subscribe\", TOPIC_VOTES) \\\n",
    "  .load()\n"
   ]
  },
  {
   "cell_type": "markdown",
   "metadata": {},
   "source": [
    "Los mensajes llegan en formato JSON, pero al contrario que con `spark.read.csv`, debemos indicar el esquema completo (OJO, este esquema sólo tiene CODIGO y PARTIDO porque el topic VOTES aún no se ha combinado con la tabla estática)."
   ]
  },
  {
   "cell_type": "code",
   "execution_count": 6,
   "metadata": {},
   "outputs": [],
   "source": [
    "schema = StructType([\n",
    "    StructField(\"Codigo\", IntegerType()),\n",
    "    StructField(\"Partido\", StringType())\n",
    "])"
   ]
  },
  {
   "cell_type": "markdown",
   "metadata": {},
   "source": [
    "La función de verificación de firma es igual en ambos notebooks."
   ]
  },
  {
   "cell_type": "code",
   "execution_count": 7,
   "metadata": {},
   "outputs": [],
   "source": [
    "def process_signature(comunidad, provincia, municipio):\n",
    "    return 'OK'\n",
    "\n",
    "udf_process_signature = fn.udf(process_signature)"
   ]
  },
  {
   "cell_type": "markdown",
   "metadata": {},
   "source": [
    "Finalmente construimos la query de procesado de votos. Si la comparamos con la query del primer notebook, ésta sólo incluye las transformaciones `join` y `withColumnRenamed` (para evita cambiar el resto del código)."
   ]
  },
  {
   "cell_type": "code",
   "execution_count": 25,
   "metadata": {},
   "outputs": [],
   "source": [
    "query = df \\\n",
    "    .selectExpr(\"topic\", \"CAST(key AS STRING)\", \"CAST(value AS STRING) AS value\") \\\n",
    "    .withColumn(\"value_json\", fn.from_json(col('value'), schema)) \\\n",
    "    .select('value_json.Codigo', 'value_json.Partido') \\\n",
    "    .withColumnRenamed('Codigo', 'CODIGO') \\\n",
    "    .withColumnRenamed('Partido', 'PARTIDO') \\\n",
    "    .join(municipios, 'CODIGO', 'inner') \\\n",
    "    .withColumn('SIGNATURE', udf_process_signature(col('COMUNIDAD'), col('PROVINCIA'), col('MUNICIPIO'))) \\\n",
    "    .where(~ fn.isnull(col('SIGNATURE'))) \\\n",
    "    .groupBy('COMUNIDAD', 'PROVINCIA', 'PARTIDO') \\\n",
    "    .agg(fn.count('*').alias('VOTOS')) \\\n",
    "    .sort(col('COMUNIDAD').asc(), col('PROVINCIA').asc(), col('VOTOS').desc()) \\\n",
    "    .writeStream \\\n",
    "    .outputMode(\"complete\") \\\n",
    "    .format(\"memory\") \\\n",
    "    .queryName('dashboard') \\\n",
    "    .start()\n"
   ]
  },
  {
   "cell_type": "markdown",
   "metadata": {},
   "source": [
    "Y leemos el dashboard igual que en el otro notebook."
   ]
  },
  {
   "cell_type": "code",
   "execution_count": 29,
   "metadata": {
    "scrolled": true
   },
   "outputs": [
    {
     "name": "stdout",
     "output_type": "stream",
     "text": [
      "+---------+-------------------------+-----+\n",
      "|COMUNIDAD|PARTIDO                  |VOTOS|\n",
      "+---------+-------------------------+-----+\n",
      "|Andalucía|Cs                       |83   |\n",
      "|Andalucía|PSOE                     |77   |\n",
      "|Andalucía|Nulos                    |71   |\n",
      "|Andalucía|PODEMOS_IU_EQUO          |68   |\n",
      "|Andalucía|Blanco                   |61   |\n",
      "|Andalucía|PP                       |59   |\n",
      "|Andalucía|PACMA                    |58   |\n",
      "|Andalucía|RECORTES_CERO_GRUPO_VERDE|48   |\n",
      "|Andalucía|PCPE                     |47   |\n",
      "|Andalucía|UPyD                     |45   |\n",
      "|Andalucía|VOX                      |40   |\n",
      "|Andalucía|FE_de_las_JONS           |18   |\n",
      "|Andalucía|IZAR                     |14   |\n",
      "|Andalucía|AND                      |10   |\n",
      "|Andalucía|PCOE                     |9    |\n",
      "|Andalucía|EB                       |9    |\n",
      "|Andalucía|CILUS                    |4    |\n",
      "+---------+-------------------------+-----+\n",
      "\n"
     ]
    }
   ],
   "source": [
    "spark.sql(\"\"\"\n",
    "SELECT COMUNIDAD, PARTIDO, sum(VOTOS) as VOTOS\n",
    "  FROM dashboard\n",
    "  WHERE VOTOS > 2 and COMUNIDAD LIKE 'And%'\n",
    "  GROUP BY COMUNIDAD, PARTIDO\n",
    "  ORDER BY VOTOS DESC\n",
    "\"\"\").show(100, False)"
   ]
  },
  {
   "cell_type": "code",
   "execution_count": 17,
   "metadata": {},
   "outputs": [],
   "source": [
    "query.stop()"
   ]
  }
 ],
 "metadata": {
  "kernelspec": {
   "display_name": "Python 3",
   "language": "python",
   "name": "python3"
  },
  "language_info": {
   "codemirror_mode": {
    "name": "ipython",
    "version": 3
   },
   "file_extension": ".py",
   "mimetype": "text/x-python",
   "name": "python",
   "nbconvert_exporter": "python",
   "pygments_lexer": "ipython3",
   "version": "3.7.2"
  }
 },
 "nbformat": 4,
 "nbformat_minor": 2
}
