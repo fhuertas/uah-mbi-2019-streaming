{
 "cells": [
  {
   "cell_type": "markdown",
   "metadata": {},
   "source": [
    "# App del usuario\n",
    "\n",
    "Este script simular ser la interfaz del usuario una vez inicia sesión. Le indicará al usuario los pokemos que aparecen a menos de una cierta distancia (que típicamente se fija con un zoom en un mapa, aunque aquí fijaremos a mano). Podemos duplicar el script para simular un segundo usuario. Como el Group ID es aleatorio, ambos usuarios verán todos los mensajes del script ya que deberán comprobar la distancia a la que aparecen todos los pokemons para cada usuario en particular."
   ]
  },
  {
   "cell_type": "code",
   "execution_count": null,
   "metadata": {},
   "outputs": [],
   "source": [
    "from confluent_kafka import Consumer, KafkaError, TopicPartition, OFFSET_BEGINNING, OFFSET_END\n",
    "import time\n",
    "import json\n",
    "import uuid\n",
    "import random\n",
    "\n",
    "from ejercicios.pokemons import TOPIC_POKEMONS, COORDINATES"
   ]
  },
  {
   "cell_type": "code",
   "execution_count": null,
   "metadata": {},
   "outputs": [],
   "source": [
    "USER_LAT = random.gauss(**COORDINATES['GAUSS_LAT_MADRID'])\n",
    "USER_LON = random.gauss(**COORDINATES['GAUSS_LON_MADRID'])\n",
    "USER_ID = str(uuid.uuid4())[:6]\n",
    "MAX_DIST = 50 # en KM\n",
    "print('User {} in {:.4f},{:.4f}'.format(USER_ID, USER_LAT, USER_LON))"
   ]
  },
  {
   "cell_type": "code",
   "execution_count": null,
   "metadata": {},
   "outputs": [],
   "source": [
    "from math import radians, cos, sin, atan2, sqrt\n",
    "def get_distance(lat_a, lon_a, lat_b, lon_b):\n",
    "    radius = 6371 # in km\n",
    "    # convert degrees to radians\n",
    "    lat_a, lon_a, lat_b, lon_b = map(radians, [lat_a, lon_a, lat_b, lon_b])\n",
    "    dist_lon = lon_b - lon_a\n",
    "    dist_lat = lat_b - lat_a\n",
    "    a = sin(dist_lat / 2)**2 + cos(lat_a) * cos(lat_b) * sin(dist_lon / 2)**2\n",
    "    c = 2 * atan2(sqrt(a), sqrt(1 - a))\n",
    "    distance = radius * c\n",
    "    return abs(round(distance, 2))\n",
    "\n",
    "get_distance(40.3222,-3.5767,40.442550576, -3.132371)"
   ]
  },
  {
   "cell_type": "code",
   "execution_count": null,
   "metadata": {},
   "outputs": [],
   "source": [
    "c = Consumer({\n",
    "    'bootstrap.servers': 'localhost:9092',\n",
    "    'group.id': USER_ID,\n",
    "    'auto.offset.reset': 'earliest'\n",
    "})\n",
    "c.subscribe([TOPIC_POKEMONS])"
   ]
  },
  {
   "cell_type": "code",
   "execution_count": null,
   "metadata": {},
   "outputs": [],
   "source": [
    "topic_list = c.list_topics(TOPIC_POKEMONS)\n",
    "topic_metadata = topic_list.topics[TOPIC_POKEMONS]"
   ]
  },
  {
   "cell_type": "code",
   "execution_count": null,
   "metadata": {},
   "outputs": [],
   "source": [
    "topic_metadata.partitions"
   ]
  },
  {
   "cell_type": "code",
   "execution_count": null,
   "metadata": {},
   "outputs": [],
   "source": [
    "msg = c.poll(0)\n",
    "print(msg)"
   ]
  },
  {
   "cell_type": "markdown",
   "metadata": {},
   "source": [
    "Podríamos comprobar sólo los pokemons que aparecen a partir del momento de iniciar sesión, pero vamos a comprobar todos los pokemons que han aparecido desde el origen del topic (o lo que es lo mismo, todos los mensajes que no han sido purgados por expirar su tiempo de retención).\n",
    "\n",
    "¿Qué ocurriría si usamos `OFFSET_END`?"
   ]
  },
  {
   "cell_type": "code",
   "execution_count": null,
   "metadata": {},
   "outputs": [],
   "source": [
    "try:\n",
    "    for p in topic_metadata.partitions.keys():\n",
    "        partition_metadata = c.position([TopicPartition(TOPIC_POKEMONS, p)])\n",
    "        print('Partition is {}'.format(partition_metadata))\n",
    "        print('Seeking to 0 on partition {}'.format(p))\n",
    "        c.seek(TopicPartition(TOPIC_POKEMONS, p, OFFSET_BEGINNING))\n",
    "except Exception as e:\n",
    "    print('Error on seek: {}'.format(str(e)))"
   ]
  },
  {
   "cell_type": "code",
   "execution_count": null,
   "metadata": {},
   "outputs": [],
   "source": [
    "while True:\n",
    "    msg = c.poll(5.0)\n",
    "\n",
    "    if msg is None:\n",
    "        continue\n",
    "\n",
    "    if msg.error():\n",
    "        print(\"Consumer error: {}\".format(msg.error()))\n",
    "        continue\n",
    "\n",
    "    if msg.topic() == TOPIC_POKEMONS:\n",
    "        pokemon = json.loads(msg.value())\n",
    "        dist_to_pokemon = get_distance(USER_LAT, USER_LON, pokemon['lat'], pokemon['lon'])\n",
    "        if dist_to_pokemon < MAX_DIST:\n",
    "            print('Pokemon {} appears at {:.2f}'.format(pokemon['Name'], dist_to_pokemon))\n",
    "    \n",
    "c.close()"
   ]
  },
  {
   "cell_type": "code",
   "execution_count": null,
   "metadata": {},
   "outputs": [],
   "source": []
  }
 ],
 "metadata": {
  "kernelspec": {
   "display_name": "Python 3",
   "language": "python",
   "name": "python3"
  },
  "language_info": {
   "codemirror_mode": {
    "name": "ipython",
    "version": 3
   },
   "file_extension": ".py",
   "mimetype": "text/x-python",
   "name": "python",
   "nbconvert_exporter": "python",
   "pygments_lexer": "ipython3",
   "version": "3.7.2"
  }
 },
 "nbformat": 4,
 "nbformat_minor": 2
}
