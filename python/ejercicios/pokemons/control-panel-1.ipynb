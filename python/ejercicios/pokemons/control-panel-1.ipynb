{
 "cells": [
  {
   "cell_type": "code",
   "execution_count": 1,
   "metadata": {},
   "outputs": [],
   "source": [
    "from confluent_kafka import Consumer, KafkaError, TopicPartition, OFFSET_BEGINNING\n",
    "import time\n",
    "import json\n",
    "import uuid\n",
    "import random\n",
    "\n",
    "from ejercicios.pokemons import TOPIC_POKEMONS, COORDINATES"
   ]
  },
  {
   "cell_type": "code",
   "execution_count": null,
   "metadata": {},
   "outputs": [],
   "source": [
    "USER_LAT = random.gauss(**COORDINATES['GAUSS_LAT_MADRID'])\n",
    "USER_LON = random.gauss(**COORDINATES['GAUSS_LON_MADRID'])\n",
    "USER_ID = '2a4e69'  # str(uuid.uuid4())[:6]\n",
    "MAX_DIST = 50\n",
    "print('User {} in {:.4f},{:.4f}'.format(USER_ID, USER_LAT, USER_LON))"
   ]
  },
  {
   "cell_type": "code",
   "execution_count": 14,
   "metadata": {},
   "outputs": [
    {
     "data": {
      "text/plain": [
       "39.94"
      ]
     },
     "execution_count": 14,
     "metadata": {},
     "output_type": "execute_result"
    }
   ],
   "source": [
    "from math import radians, cos, sin, atan2, sqrt\n",
    "def get_distance(lat_a, lon_a, lat_b, lon_b):\n",
    "    radius = 6371 # in km\n",
    "    # convert degrees to radians\n",
    "    lat_a, lon_a, lat_b, lon_b = map(radians, [lat_a, lon_a, lat_b, lon_b])\n",
    "    dist_lon = lon_b - lon_a\n",
    "    dist_lat = lat_b - lat_a\n",
    "    a = sin(dist_lat / 2)**2 + cos(lat_a) * cos(lat_b) * sin(dist_lon / 2)**2\n",
    "    c = 2 * atan2(sqrt(a), sqrt(1 - a))\n",
    "    distance = radius * c\n",
    "    return abs(round(distance, 2))\n",
    "\n",
    "get_distance(40.3222,-3.5767,40.442550576, -3.132371)"
   ]
  },
  {
   "cell_type": "code",
   "execution_count": 3,
   "metadata": {},
   "outputs": [],
   "source": [
    "c = Consumer({\n",
    "    'bootstrap.servers': 'localhost:9092',\n",
    "    'group.id': USER_ID,\n",
    "    'auto.offset.reset': 'earliest'\n",
    "})\n",
    "c.subscribe([TOPIC_POKEMONS])"
   ]
  },
  {
   "cell_type": "code",
   "execution_count": 4,
   "metadata": {},
   "outputs": [],
   "source": [
    "topic_list = c.list_topics(TOPIC_POKEMONS)\n",
    "topic_metadata = topic_list.topics[TOPIC_POKEMONS]"
   ]
  },
  {
   "cell_type": "code",
   "execution_count": 5,
   "metadata": {},
   "outputs": [
    {
     "data": {
      "text/plain": [
       "{0: PartitionMetadata(0)}"
      ]
     },
     "execution_count": 5,
     "metadata": {},
     "output_type": "execute_result"
    }
   ],
   "source": [
    "topic_metadata.partitions"
   ]
  },
  {
   "cell_type": "code",
   "execution_count": 6,
   "metadata": {},
   "outputs": [
    {
     "name": "stdout",
     "output_type": "stream",
     "text": [
      "None\n"
     ]
    }
   ],
   "source": [
    "msg = c.poll(0)\n",
    "print(msg)"
   ]
  },
  {
   "cell_type": "code",
   "execution_count": 17,
   "metadata": {},
   "outputs": [
    {
     "name": "stdout",
     "output_type": "stream",
     "text": [
      "Partition is [TopicPartition{topic=pokemons,partition=0,offset=7,error=None}]\n",
      "Seeking to 0 on partition 0\n"
     ]
    }
   ],
   "source": [
    "try:\n",
    "    for p in topic_metadata.partitions.keys():\n",
    "        partition_metadata = c.position([TopicPartition(TOPIC_POKEMONS, p)])\n",
    "        print('Partition is {}'.format(partition_metadata))\n",
    "        print('Seeking to 0 on partition {}'.format(p))\n",
    "        c.seek(TopicPartition(TOPIC_POKEMONS, p, OFFSET_BEGINNING))\n",
    "except Exception as e:\n",
    "    print('Error on seek: {}'.format(str(e)))"
   ]
  },
  {
   "cell_type": "code",
   "execution_count": 18,
   "metadata": {},
   "outputs": [
    {
     "name": "stdout",
     "output_type": "stream",
     "text": [
      "Pokemon Floette appears at 39.32\n"
     ]
    },
    {
     "ename": "KeyboardInterrupt",
     "evalue": "",
     "output_type": "error",
     "traceback": [
      "\u001b[0;31m---------------------------------------------------------------------------\u001b[0m",
      "\u001b[0;31mKeyboardInterrupt\u001b[0m                         Traceback (most recent call last)",
      "\u001b[0;32m<ipython-input-18-23b081252b37>\u001b[0m in \u001b[0;36m<module>\u001b[0;34m\u001b[0m\n\u001b[1;32m      1\u001b[0m \u001b[0;32mwhile\u001b[0m \u001b[0;32mTrue\u001b[0m\u001b[0;34m:\u001b[0m\u001b[0;34m\u001b[0m\u001b[0;34m\u001b[0m\u001b[0m\n\u001b[0;32m----> 2\u001b[0;31m     \u001b[0mmsg\u001b[0m \u001b[0;34m=\u001b[0m \u001b[0mc\u001b[0m\u001b[0;34m.\u001b[0m\u001b[0mpoll\u001b[0m\u001b[0;34m(\u001b[0m\u001b[0;36m5.0\u001b[0m\u001b[0;34m)\u001b[0m\u001b[0;34m\u001b[0m\u001b[0;34m\u001b[0m\u001b[0m\n\u001b[0m\u001b[1;32m      3\u001b[0m \u001b[0;34m\u001b[0m\u001b[0m\n\u001b[1;32m      4\u001b[0m     \u001b[0;32mif\u001b[0m \u001b[0mmsg\u001b[0m \u001b[0;32mis\u001b[0m \u001b[0;32mNone\u001b[0m\u001b[0;34m:\u001b[0m\u001b[0;34m\u001b[0m\u001b[0;34m\u001b[0m\u001b[0m\n\u001b[1;32m      5\u001b[0m         \u001b[0;32mcontinue\u001b[0m\u001b[0;34m\u001b[0m\u001b[0;34m\u001b[0m\u001b[0m\n",
      "\u001b[0;31mKeyboardInterrupt\u001b[0m: "
     ]
    }
   ],
   "source": [
    "while True:\n",
    "    msg = c.poll(5.0)\n",
    "\n",
    "    if msg is None:\n",
    "        continue\n",
    "\n",
    "    if msg.error():\n",
    "        print(\"Consumer error: {}\".format(msg.error()))\n",
    "        continue\n",
    "\n",
    "    if msg.topic() == TOPIC_POKEMONS:\n",
    "        pokemon = json.loads(msg.value())\n",
    "        dist_to_pokemon = get_distance(USER_LAT, USER_LON, pokemon['lat'], pokemon['lon'])\n",
    "        if dist_to_pokemon < MAX_DIST:\n",
    "            print('Pokemon {} appears at {:.2f}'.format(pokemon['Name'], dist_to_pokemon))\n",
    "    \n",
    "c.close()"
   ]
  },
  {
   "cell_type": "code",
   "execution_count": null,
   "metadata": {},
   "outputs": [],
   "source": []
  }
 ],
 "metadata": {
  "kernelspec": {
   "display_name": "Python 3",
   "language": "python",
   "name": "python3"
  },
  "language_info": {
   "codemirror_mode": {
    "name": "ipython",
    "version": 3
   },
   "file_extension": ".py",
   "mimetype": "text/x-python",
   "name": "python",
   "nbconvert_exporter": "python",
   "pygments_lexer": "ipython3",
   "version": "3.7.2"
  }
 },
 "nbformat": 4,
 "nbformat_minor": 2
}
