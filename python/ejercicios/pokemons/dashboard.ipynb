{
 "cells": [
  {
   "cell_type": "markdown",
   "metadata": {},
   "source": [
    "# Dashboard\n",
    "\n",
    "Este pequeño dashboard mostrará el número de pokemos que han aparecido en el sistema y los usuarios con sesión abierta. El procesado es muy sencillo, pero nos obliga a mantener un estado."
   ]
  },
  {
   "cell_type": "code",
   "execution_count": null,
   "metadata": {},
   "outputs": [],
   "source": [
    "from confluent_kafka import Consumer, KafkaError\n",
    "import time\n",
    "import json\n",
    "\n",
    "from ejercicios.pokemons import TOPIC_USERS, TOPIC_POKEMONS, GROUP_DASHBOARD"
   ]
  },
  {
   "cell_type": "code",
   "execution_count": null,
   "metadata": {},
   "outputs": [],
   "source": [
    "pokemon_count = 0\n",
    "user_count = 0"
   ]
  },
  {
   "cell_type": "code",
   "execution_count": null,
   "metadata": {},
   "outputs": [],
   "source": [
    "c = Consumer({\n",
    "    'bootstrap.servers': 'localhost:9092',\n",
    "    'group.id': GROUP_DASHBOARD,\n",
    "    'auto.offset.reset': 'earliest'\n",
    "})\n",
    "c.subscribe([TOPIC_USERS, TOPIC_POKEMONS])\n",
    "\n",
    "while True:\n",
    "    msg = c.poll(5.0)\n",
    "\n",
    "\n",
    "    if msg is None:\n",
    "        continue\n",
    "\n",
    "    if msg.error():\n",
    "        print(\"Consumer error: {}\".format(msg.error()))\n",
    "        continue\n",
    "\n",
    "    if msg.topic() == TOPIC_POKEMONS:\n",
    "        pokemon_count += 1\n",
    "    elif msg.topic() == TOPIC_USERS:\n",
    "        if msg.value() is None:\n",
    "            user_count -= 1\n",
    "        else:\n",
    "            user_count += 1\n",
    "\n",
    "    print(\"Pokemons: {} | Logged users: {}\".format(pokemon_count, user_count))    \n",
    "    \n",
    "c.close()"
   ]
  },
  {
   "cell_type": "code",
   "execution_count": null,
   "metadata": {},
   "outputs": [],
   "source": []
  }
 ],
 "metadata": {
  "kernelspec": {
   "display_name": "Python 3",
   "language": "python",
   "name": "python3"
  },
  "language_info": {
   "codemirror_mode": {
    "name": "ipython",
    "version": 3
   },
   "file_extension": ".py",
   "mimetype": "text/x-python",
   "name": "python",
   "nbconvert_exporter": "python",
   "pygments_lexer": "ipython3",
   "version": "3.7.2"
  }
 },
 "nbformat": 4,
 "nbformat_minor": 2
}
