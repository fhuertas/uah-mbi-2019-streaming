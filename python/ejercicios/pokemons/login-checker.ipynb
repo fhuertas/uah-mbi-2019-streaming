{
 "cells": [
  {
   "cell_type": "code",
   "execution_count": 1,
   "metadata": {},
   "outputs": [],
   "source": [
    "from confluent_kafka import Consumer, KafkaError\n",
    "import json\n",
    "\n",
    "from ejercicios.pokemons import TOPIC_USERS, GROUP_LOGIN_CHECKER"
   ]
  },
  {
   "cell_type": "code",
   "execution_count": 2,
   "metadata": {},
   "outputs": [],
   "source": [
    "c = Consumer({\n",
    "    'bootstrap.servers': 'localhost:9092',\n",
    "    'group.id': GROUP_LOGIN_CHECKER,\n",
    "    'auto.offset.reset': 'latest'\n",
    "})\n",
    "c.subscribe([TOPIC_USERS])"
   ]
  },
  {
   "cell_type": "code",
   "execution_count": 3,
   "metadata": {},
   "outputs": [
    {
     "name": "stdout",
     "output_type": "stream",
     "text": [
      "Sending email to user 0dc09f77-9d48-48ec-92e8-85b2c048550c:Laura...\n",
      "User b'658880d7-9622-4254-8dd2-b733eb63c806' logging off, nothing to do\n",
      "Sending email to user 658880d7-9622-4254-8dd2-b733eb63c806:Jose...\n",
      "User b'0dc09f77-9d48-48ec-92e8-85b2c048550c' logging off, nothing to do\n",
      "Sending email to user 46f62537-18dc-40ff-807b-070baebf1991:Luis...\n",
      "Sending email to user 0dc09f77-9d48-48ec-92e8-85b2c048550c:Laura...\n",
      "User b'537fceb3-3fb0-4545-94f7-c915aee3ab1d' logging off, nothing to do\n",
      "User b'0dc09f77-9d48-48ec-92e8-85b2c048550c' logging off, nothing to do\n",
      "Sending email to user 537fceb3-3fb0-4545-94f7-c915aee3ab1d:Fran...\n",
      "User b'90f02947-4ff3-41cc-81d9-1459613c4984' logging off, nothing to do\n",
      "Sending email to user 90f02947-4ff3-41cc-81d9-1459613c4984:Maria...\n",
      "User b'537fceb3-3fb0-4545-94f7-c915aee3ab1d' logging off, nothing to do\n",
      "Sending email to user 537fceb3-3fb0-4545-94f7-c915aee3ab1d:Fran...\n",
      "User b'90f02947-4ff3-41cc-81d9-1459613c4984' logging off, nothing to do\n"
     ]
    },
    {
     "ename": "KeyboardInterrupt",
     "evalue": "",
     "output_type": "error",
     "traceback": [
      "\u001b[0;31m---------------------------------------------------------------------------\u001b[0m",
      "\u001b[0;31mKeyboardInterrupt\u001b[0m                         Traceback (most recent call last)",
      "\u001b[0;32m<ipython-input-3-819b90a17dbe>\u001b[0m in \u001b[0;36m<module>\u001b[0;34m\u001b[0m\n\u001b[1;32m      1\u001b[0m \u001b[0;32mwhile\u001b[0m \u001b[0;32mTrue\u001b[0m\u001b[0;34m:\u001b[0m\u001b[0;34m\u001b[0m\u001b[0;34m\u001b[0m\u001b[0m\n\u001b[0;32m----> 2\u001b[0;31m     \u001b[0mmsg\u001b[0m \u001b[0;34m=\u001b[0m \u001b[0mc\u001b[0m\u001b[0;34m.\u001b[0m\u001b[0mpoll\u001b[0m\u001b[0;34m(\u001b[0m\u001b[0;36m1.0\u001b[0m\u001b[0;34m)\u001b[0m\u001b[0;34m\u001b[0m\u001b[0;34m\u001b[0m\u001b[0m\n\u001b[0m\u001b[1;32m      3\u001b[0m \u001b[0;34m\u001b[0m\u001b[0m\n\u001b[1;32m      4\u001b[0m     \u001b[0;32mif\u001b[0m \u001b[0mmsg\u001b[0m \u001b[0;32mis\u001b[0m \u001b[0;32mNone\u001b[0m\u001b[0;34m:\u001b[0m\u001b[0;34m\u001b[0m\u001b[0;34m\u001b[0m\u001b[0m\n\u001b[1;32m      5\u001b[0m         \u001b[0;32mcontinue\u001b[0m\u001b[0;34m\u001b[0m\u001b[0;34m\u001b[0m\u001b[0m\n",
      "\u001b[0;31mKeyboardInterrupt\u001b[0m: "
     ]
    }
   ],
   "source": [
    "while True:\n",
    "    msg = c.poll(1.0)\n",
    "\n",
    "    if msg is None:\n",
    "        continue\n",
    "\n",
    "    if msg.error():\n",
    "        print(\"Consumer error: {}\".format(msg.error()))\n",
    "        continue\n",
    "\n",
    "    if msg.topic() == TOPIC_USERS:\n",
    "        if msg.value() is None:\n",
    "            print('User {} logging off, nothing to do'.format(msg.key()))\n",
    "        else:\n",
    "            user = json.loads(msg.value())\n",
    "            print('Sending email to user {}:{}...'.format(user['id'], user['name']))\n",
    "    \n",
    "c.close()"
   ]
  },
  {
   "cell_type": "code",
   "execution_count": null,
   "metadata": {},
   "outputs": [],
   "source": []
  }
 ],
 "metadata": {
  "kernelspec": {
   "display_name": "Python 3",
   "language": "python",
   "name": "python3"
  },
  "language_info": {
   "codemirror_mode": {
    "name": "ipython",
    "version": 3
   },
   "file_extension": ".py",
   "mimetype": "text/x-python",
   "name": "python",
   "nbconvert_exporter": "python",
   "pygments_lexer": "ipython3",
   "version": "3.7.2"
  }
 },
 "nbformat": 4,
 "nbformat_minor": 2
}
