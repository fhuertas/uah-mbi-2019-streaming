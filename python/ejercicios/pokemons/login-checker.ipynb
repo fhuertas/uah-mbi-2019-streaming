{
 "cells": [
  {
   "cell_type": "markdown",
   "metadata": {},
   "source": [
    "# Control de inicios de sesión\n",
    "\n",
    "Este consumer se dedicará a enviar un email a los usuarios cuando inician sesión. No mantiene ningún tipo de estado, y podríamos arrancar varias instancias para tener alta disponibilidad o mejorar el rendimiento simplemente duplicando el script."
   ]
  },
  {
   "cell_type": "code",
   "execution_count": null,
   "metadata": {},
   "outputs": [],
   "source": [
    "from confluent_kafka import Consumer, KafkaError\n",
    "import json\n",
    "\n",
    "from ejercicios.pokemons import TOPIC_USERS, GROUP_LOGIN_CHECKER"
   ]
  },
  {
   "cell_type": "code",
   "execution_count": null,
   "metadata": {},
   "outputs": [],
   "source": [
    "c = Consumer({\n",
    "    'bootstrap.servers': 'localhost:9092',\n",
    "    'group.id': GROUP_LOGIN_CHECKER,\n",
    "    'auto.offset.reset': 'latest'\n",
    "})\n",
    "c.subscribe([TOPIC_USERS])"
   ]
  },
  {
   "cell_type": "code",
   "execution_count": null,
   "metadata": {},
   "outputs": [],
   "source": [
    "def send_mail(user_id, name):\n",
    "    print('Sending email to user {}:{}...'.format(user_id, name))"
   ]
  },
  {
   "cell_type": "code",
   "execution_count": null,
   "metadata": {},
   "outputs": [],
   "source": [
    "while True:\n",
    "    msg = c.poll(1.0)\n",
    "\n",
    "    if msg is None:\n",
    "        continue\n",
    "\n",
    "    if msg.error():\n",
    "        print(\"Consumer error: {}\".format(msg.error()))\n",
    "        continue\n",
    "\n",
    "    if msg.topic() == TOPIC_USERS:\n",
    "        if msg.value() is None:\n",
    "            print('User {} logging off, nothing to do'.format(msg.key()))\n",
    "        else:\n",
    "            user = json.loads(msg.value())\n",
    "            send_mail(user['id'], user['name'])\n",
    "    \n",
    "c.close()"
   ]
  },
  {
   "cell_type": "code",
   "execution_count": null,
   "metadata": {},
   "outputs": [],
   "source": []
  }
 ],
 "metadata": {
  "kernelspec": {
   "display_name": "Python 3",
   "language": "python",
   "name": "python3"
  },
  "language_info": {
   "codemirror_mode": {
    "name": "ipython",
    "version": 3
   },
   "file_extension": ".py",
   "mimetype": "text/x-python",
   "name": "python",
   "nbconvert_exporter": "python",
   "pygments_lexer": "ipython3",
   "version": "3.7.2"
  }
 },
 "nbformat": 4,
 "nbformat_minor": 2
}
