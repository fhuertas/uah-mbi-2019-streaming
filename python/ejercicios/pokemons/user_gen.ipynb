{
 "cells": [
  {
   "cell_type": "markdown",
   "metadata": {},
   "source": [
    "# Generador de logins\n",
    "\n",
    "Este simulador de logins genera una pequeña tabla de usuarios y empezará a enviar eventos de login y logoff a Kafka. Además hemos escrito una pequeña función de hash que envíe cada mensaje a una partición diferente en función del ID del usuario."
   ]
  },
  {
   "cell_type": "code",
   "execution_count": null,
   "metadata": {},
   "outputs": [],
   "source": [
    "import uuid\n",
    "import random\n",
    "import json\n",
    "from confluent_kafka import Producer\n",
    "import time\n",
    "\n",
    "from ejercicios.pokemons import SEED, TOPIC_USERS, MEAN_LOGIN, NUM_USERS\n",
    "\n",
    "user_names = [\n",
    "    'Luis',\n",
    "    'Jose',\n",
    "    'Maria',\n",
    "    'Laura',\n",
    "    'Fran',\n",
    "    'Dani',\n",
    "    'David',\n",
    "    'Cris',\n",
    "    'Oscar',\n",
    "    'Virginia'\n",
    "]\n",
    "\n",
    "users = {}\n",
    "for u in range(NUM_USERS):\n",
    "    i = str(uuid.uuid4())\n",
    "    name = user_names[u % len(user_names)]\n",
    "    age = random.randint(18, 99)\n",
    "    users[i] = ({'id': i, 'name': name, 'age': age, 'logged': False})"
   ]
  },
  {
   "cell_type": "markdown",
   "metadata": {},
   "source": [
    "Esta función de hash, extremadamente básica, genera un número de partición a partir de una clave (el ID de usuario). Para una clave y un número de particiones el resultado es siempre el mismo. Se podría usar como balanceo de carga, asumiendo que los IDs son aleatorios. Otros métodos para repartir la carga podría ser una elección realmente aleatoria (es decir, no a partir de una key) o por round robin."
   ]
  },
  {
   "cell_type": "code",
   "execution_count": null,
   "metadata": {},
   "outputs": [],
   "source": [
    "def choose_partition(num_partitions, key):\n",
    "    if num_partitions == 1 or key is None:\n",
    "        return 0\n",
    "    else:\n",
    "        try:\n",
    "            as_num = int(key[0], base=16)\n",
    "            return as_num % num_partitions\n",
    "        except:\n",
    "            return 0\n",
    "\n",
    "# Imprimimos algunas pruebas para comprobar que funciona\n",
    "print(choose_partition(1, str(uuid.uuid4())))\n",
    "print(choose_partition(1, None))\n",
    "\n",
    "for i in range(10):\n",
    "    u = str(uuid.uuid4())\n",
    "    print(\"{}: {}\".format(u, choose_partition(2, u)))\n",
    "\n",
    "print()\n",
    "for i in range(10):\n",
    "    u = str(uuid.uuid4())\n",
    "    print(\"{}: {}\".format(u, choose_partition(3, u)))\n"
   ]
  },
  {
   "cell_type": "code",
   "execution_count": null,
   "metadata": {},
   "outputs": [],
   "source": [
    "p = Producer({'bootstrap.servers': 'localhost:9092'})\n",
    "\n",
    "def delivery_report(err, msg):\n",
    "    \"\"\" Called once for each message produced to indicate delivery result.\n",
    "        Triggered by poll() or flush(). \"\"\"\n",
    "    if err is not None:\n",
    "        print('Message delivery failed: {}'.format(err))\n",
    "    else:\n",
    "        pass\n",
    "        # print('Message delivered to {} [{}]'.format(msg.topic(), msg.partition()))\n",
    "\n",
    "while True:\n",
    "    # Trigger any available delivery report callbacks from previous produce() calls\n",
    "    p.poll(0)\n",
    "    topic_list = p.list_topics(TOPIC_USERS)\n",
    "    topic_metadata = topic_list.topics[TOPIC_USERS]\n",
    "    num_partitions = len(topic_metadata.partitions.keys())\n",
    "    \n",
    "    user_id = random.choice(list(users.keys()))\n",
    "    partition_num = choose_partition(num_partitions, user_id)\n",
    "\n",
    "    if users[user_id]['logged']:\n",
    "        print(\"Logging {} OFF on {}\".format(user_id, partition_num))\n",
    "        users[user_id]['logged'] = False\n",
    "        p.produce(TOPIC_USERS,\n",
    "                  key=user_id,\n",
    "                  partition=partition_num,\n",
    "                  value=None,\n",
    "                  callback=delivery_report)\n",
    "    else:\n",
    "        print(\"Logging {} IN on {}\".format(user_id, partition_num))\n",
    "        users[user_id]['logged'] = True\n",
    "        p.produce(TOPIC_USERS,\n",
    "                  key=user_id,\n",
    "                  partition=partition_num,\n",
    "                  value=json.dumps(users[user_id]).encode('utf-8'),\n",
    "                  callback=delivery_report)\n",
    "\n",
    "    time.sleep(abs(random.gauss(MEAN_LOGIN, 3)))\n",
    "\n",
    "# Wait for any outstanding messages to be delivered and delivery report\n",
    "# callbacks to be triggered.\n",
    "p.flush()\n"
   ]
  },
  {
   "cell_type": "code",
   "execution_count": null,
   "metadata": {},
   "outputs": [],
   "source": []
  }
 ],
 "metadata": {
  "kernelspec": {
   "display_name": "Python 3",
   "language": "python",
   "name": "python3"
  },
  "language_info": {
   "codemirror_mode": {
    "name": "ipython",
    "version": 3
   },
   "file_extension": ".py",
   "mimetype": "text/x-python",
   "name": "python",
   "nbconvert_exporter": "python",
   "pygments_lexer": "ipython3",
   "version": "3.7.2"
  }
 },
 "nbformat": 4,
 "nbformat_minor": 2
}
