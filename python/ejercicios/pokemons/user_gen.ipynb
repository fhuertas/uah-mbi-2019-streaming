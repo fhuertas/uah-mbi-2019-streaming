{
 "cells": [
  {
   "cell_type": "markdown",
   "metadata": {},
   "source": [
    "# Generador de logins\n",
    "\n",
    "Este simulador de logins genera una pequeña tabla de usuarios y empezará a enviar eventos de login y logoff a Kafka. Además hemos escrito una pequeña función de hash que envíe cada mensaje a una partición diferente en función del ID del usuario."
   ]
  },
  {
   "cell_type": "code",
   "execution_count": 3,
   "metadata": {},
   "outputs": [],
   "source": [
    "import uuid\n",
    "import random\n",
    "import json\n",
    "from confluent_kafka import Producer\n",
    "import time\n",
    "\n",
    "from ejercicios.pokemons import SEED, TOPIC_USERS, MEAN_LOGIN, NUM_USERS\n",
    "\n",
    "user_names = [\n",
    "    'Luis',\n",
    "    'Jose',\n",
    "    'Maria',\n",
    "    'Laura',\n",
    "    'Fran',\n",
    "    'Dani',\n",
    "    'David',\n",
    "    'Cris',\n",
    "    'Oscar',\n",
    "    'Virginia'\n",
    "]\n",
    "\n",
    "users = {}\n",
    "for u in range(NUM_USERS):\n",
    "    i = str(uuid.uuid4())\n",
    "    name = user_names[u % len(user_names)]\n",
    "    age = random.randint(18, 99)\n",
    "    users[i] = ({'id': i, 'name': name, 'age': age, 'logged': False})"
   ]
  },
  {
   "cell_type": "markdown",
   "metadata": {},
   "source": [
    "Esta función de hash, extremadamente básica, genera un número de partición a partir de una clave (el ID de usuario). Para una clave y un número de particiones el resultado es siempre el mismo. Se podría usar como balanceo de carga, asumiendo que los IDs son aleatorios. Otros métodos para repartir la carga podría ser una elección realmente aleatoria (es decir, no a partir de una key) o por round robin."
   ]
  },
  {
   "cell_type": "code",
   "execution_count": 30,
   "metadata": {},
   "outputs": [
    {
     "name": "stdout",
     "output_type": "stream",
     "text": [
      "0\n",
      "0\n",
      "cd7fc96c-d459-4764-a02f-0d593f09956c: 0\n",
      "25125163-f794-4a05-aa02-1a4bb25bb8a4: 0\n",
      "c3e5ee4d-6a4b-4d9d-a86b-f6a2f1e1fea4: 0\n",
      "d4a4236c-eb53-4bf6-8839-d07653098be1: 1\n",
      "1b8bed8a-b447-49c6-b9d3-24141730437c: 1\n",
      "eb9624a8-6ce8-416d-938f-b81d8718dfad: 0\n",
      "ee1783c5-2966-4aac-9201-cb67f5adafcb: 0\n",
      "1a526524-fb02-49ab-b244-011b373c7e59: 1\n",
      "9c591811-4473-4f41-87c6-8d5b8b60431b: 1\n",
      "b926828e-7a7d-4932-a38d-0b1eca3e0412: 1\n",
      "\n",
      "f5cf9de2-3c6c-4668-82c9-ef9edbef3e16: 0\n",
      "44564bc7-bf9f-4334-8836-94e77e3ac6f5: 1\n",
      "b257a7ed-a876-46d5-8290-fc19046410ae: 2\n",
      "aa9eec6e-e3ab-459c-aba5-5b2cba8afd9d: 1\n",
      "4a1ba9ac-e8d9-47fd-a88b-8764c1d2dc72: 1\n",
      "0b4b5859-d426-4146-b4d7-284ae5e5b89b: 0\n",
      "ff065d60-122b-4976-8b75-7f4b28cb98f5: 0\n",
      "3de0438f-c2c8-4fe3-9a15-985406f91e75: 0\n",
      "55a3f526-1856-4743-abed-70157b4ddee0: 2\n",
      "1ebd4bd2-2291-4c8a-a4d5-939671d37190: 1\n"
     ]
    }
   ],
   "source": [
    "def choose_partition(num_partitions, key):\n",
    "    if num_partitions == 1 or key is None:\n",
    "        return 0\n",
    "    else:\n",
    "        try:\n",
    "            as_num = int(key[0], base=16)\n",
    "            return as_num % num_partitions\n",
    "        except:\n",
    "            return 0\n",
    "\n",
    "# Imprimimos algunas pruebas para comprobar que funciona\n",
    "print(choose_partition(1, str(uuid.uuid4())))\n",
    "print(choose_partition(1, None))\n",
    "\n",
    "for i in range(10):\n",
    "    u = str(uuid.uuid4())\n",
    "    print(\"{}: {}\".format(u, choose_partition(2, u)))\n",
    "\n",
    "print()\n",
    "for i in range(10):\n",
    "    u = str(uuid.uuid4())\n",
    "    print(\"{}: {}\".format(u, choose_partition(3, u)))\n"
   ]
  },
  {
   "cell_type": "code",
   "execution_count": 19,
   "metadata": {},
   "outputs": [
    {
     "data": {
      "text/plain": [
       "1"
      ]
     },
     "execution_count": 19,
     "metadata": {},
     "output_type": "execute_result"
    }
   ],
   "source": [
    "a = int('d', base=16)\n",
    "a % 3"
   ]
  },
  {
   "cell_type": "code",
   "execution_count": 14,
   "metadata": {},
   "outputs": [
    {
     "data": {
      "text/plain": [
       "1"
      ]
     },
     "execution_count": 14,
     "metadata": {},
     "output_type": "execute_result"
    }
   ],
   "source": [
    "15 % 2"
   ]
  },
  {
   "cell_type": "code",
   "execution_count": 32,
   "metadata": {},
   "outputs": [
    {
     "name": "stdout",
     "output_type": "stream",
     "text": [
      "Logging 0dc09f77-9d48-48ec-92e8-85b2c048550c IN\n",
      "Message delivered to users [0]\n",
      "Logging 658880d7-9622-4254-8dd2-b733eb63c806 OFF\n",
      "Message delivered to users [0]\n",
      "Logging 90f02947-4ff3-41cc-81d9-1459613c4984 OFF\n",
      "Message delivered to users [1]\n",
      "Logging 537fceb3-3fb0-4545-94f7-c915aee3ab1d IN\n",
      "Message delivered to users [1]\n",
      "Logging 658880d7-9622-4254-8dd2-b733eb63c806 IN\n",
      "Message delivered to users [0]\n",
      "Logging 0dc09f77-9d48-48ec-92e8-85b2c048550c OFF\n",
      "Message delivered to users [0]\n",
      "Logging 46f62537-18dc-40ff-807b-070baebf1991 IN\n",
      "Message delivered to users [0]\n",
      "Logging 90f02947-4ff3-41cc-81d9-1459613c4984 IN\n",
      "Message delivered to users [1]\n",
      "Logging 0dc09f77-9d48-48ec-92e8-85b2c048550c IN\n",
      "Message delivered to users [0]\n",
      "Logging 537fceb3-3fb0-4545-94f7-c915aee3ab1d OFF\n",
      "Message delivered to users [1]\n",
      "Logging 0dc09f77-9d48-48ec-92e8-85b2c048550c OFF\n",
      "Message delivered to users [0]\n",
      "Logging 537fceb3-3fb0-4545-94f7-c915aee3ab1d IN\n",
      "Message delivered to users [1]\n",
      "Logging 90f02947-4ff3-41cc-81d9-1459613c4984 OFF\n",
      "Message delivered to users [1]\n",
      "Logging 90f02947-4ff3-41cc-81d9-1459613c4984 IN\n",
      "Message delivered to users [1]\n",
      "Logging 537fceb3-3fb0-4545-94f7-c915aee3ab1d OFF\n",
      "Message delivered to users [1]\n",
      "Logging 658880d7-9622-4254-8dd2-b733eb63c806 OFF\n",
      "Message delivered to users [0]\n",
      "Logging 537fceb3-3fb0-4545-94f7-c915aee3ab1d IN\n",
      "Message delivered to users [1]\n",
      "Logging 90f02947-4ff3-41cc-81d9-1459613c4984 OFF\n",
      "Message delivered to users [1]\n",
      "Logging 46f62537-18dc-40ff-807b-070baebf1991 OFF\n"
     ]
    },
    {
     "ename": "KeyboardInterrupt",
     "evalue": "",
     "output_type": "error",
     "traceback": [
      "\u001b[0;31m---------------------------------------------------------------------------\u001b[0m",
      "\u001b[0;31mKeyboardInterrupt\u001b[0m                         Traceback (most recent call last)",
      "\u001b[0;32m<ipython-input-32-86767bd3af3a>\u001b[0m in \u001b[0;36m<module>\u001b[0;34m\u001b[0m\n\u001b[1;32m     34\u001b[0m                   callback=delivery_report)\n\u001b[1;32m     35\u001b[0m \u001b[0;34m\u001b[0m\u001b[0m\n\u001b[0;32m---> 36\u001b[0;31m     \u001b[0mtime\u001b[0m\u001b[0;34m.\u001b[0m\u001b[0msleep\u001b[0m\u001b[0;34m(\u001b[0m\u001b[0mabs\u001b[0m\u001b[0;34m(\u001b[0m\u001b[0mrandom\u001b[0m\u001b[0;34m.\u001b[0m\u001b[0mgauss\u001b[0m\u001b[0;34m(\u001b[0m\u001b[0;36m5\u001b[0m\u001b[0;34m,\u001b[0m \u001b[0;36m3\u001b[0m\u001b[0;34m)\u001b[0m\u001b[0;34m)\u001b[0m\u001b[0;34m)\u001b[0m\u001b[0;34m\u001b[0m\u001b[0;34m\u001b[0m\u001b[0m\n\u001b[0m\u001b[1;32m     37\u001b[0m \u001b[0;34m\u001b[0m\u001b[0m\n\u001b[1;32m     38\u001b[0m \u001b[0;31m# Wait for any outstanding messages to be delivered and delivery report\u001b[0m\u001b[0;34m\u001b[0m\u001b[0;34m\u001b[0m\u001b[0;34m\u001b[0m\u001b[0m\n",
      "\u001b[0;31mKeyboardInterrupt\u001b[0m: "
     ]
    }
   ],
   "source": [
    "p = Producer({'bootstrap.servers': 'localhost:9092'})\n",
    "\n",
    "def delivery_report(err, msg):\n",
    "    \"\"\" Called once for each message produced to indicate delivery result.\n",
    "        Triggered by poll() or flush(). \"\"\"\n",
    "    if err is not None:\n",
    "        print('Message delivery failed: {}'.format(err))\n",
    "    else:\n",
    "        print('Message delivered to {} [{}]'.format(msg.topic(), msg.partition()))\n",
    "\n",
    "while True:\n",
    "    # Trigger any available delivery report callbacks from previous produce() calls\n",
    "    p.poll(0)\n",
    "    topic_list = p.list_topics(TOPIC_USERS)\n",
    "    topic_metadata = topic_list.topics[TOPIC_USERS]\n",
    "    num_partitions = len(topic_metadata.partitions.keys())\n",
    "    \n",
    "    user_id = random.choice(list(users.keys()))\n",
    "    if users[user_id]['logged']:\n",
    "        print(\"Logging {} OFF\".format(user_id))\n",
    "        users[user_id]['logged'] = False\n",
    "        p.produce(TOPIC_USERS,\n",
    "                  key=user_id,\n",
    "                  partition=choose_partition(num_partitions, user_id),\n",
    "                  value=None,\n",
    "                  callback=delivery_report)\n",
    "    else:\n",
    "        print(\"Logging {} IN\".format(user_id))\n",
    "        users[user_id]['logged'] = True\n",
    "        p.produce(TOPIC_USERS,\n",
    "                  key=user_id,\n",
    "                  partition=choose_partition(num_partitions, user_id),\n",
    "                  value=json.dumps(users[user_id]).encode('utf-8'),\n",
    "                  callback=delivery_report)\n",
    "\n",
    "    time.sleep(abs(random.gauss(MEAN_LOGIN, 3)))\n",
    "\n",
    "# Wait for any outstanding messages to be delivered and delivery report\n",
    "# callbacks to be triggered.\n",
    "p.flush()\n"
   ]
  },
  {
   "cell_type": "code",
   "execution_count": null,
   "metadata": {},
   "outputs": [],
   "source": []
  }
 ],
 "metadata": {
  "kernelspec": {
   "display_name": "Python 3",
   "language": "python",
   "name": "python3"
  },
  "language_info": {
   "codemirror_mode": {
    "name": "ipython",
    "version": 3
   },
   "file_extension": ".py",
   "mimetype": "text/x-python",
   "name": "python",
   "nbconvert_exporter": "python",
   "pygments_lexer": "ipython3",
   "version": "3.7.2"
  }
 },
 "nbformat": 4,
 "nbformat_minor": 2
}
