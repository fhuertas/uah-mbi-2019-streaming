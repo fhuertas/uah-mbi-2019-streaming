{
 "cells": [
  {
   "cell_type": "markdown",
   "metadata": {},
   "source": [
    "# Generador de pokemons\n",
    "\n",
    "Este script simulará la aparición de pokemons de una manera pseudoaleatoria. Los pokemos se pueden repetir, aparecerán aproximadamente cada `MEAN_INTERVAL` segundos, y aparecerán en el entorno de las coordenadas definidas en `COORDINATES`."
   ]
  },
  {
   "cell_type": "code",
   "execution_count": null,
   "metadata": {},
   "outputs": [],
   "source": [
    "import pandas as pd\n",
    "from confluent_kafka import Producer\n",
    "import time\n",
    "import json\n",
    "import random\n",
    "from ejercicios.pokemons import SEED, TOPIC_POKEMONS, DATA, COORDINATES, MEAN_INTERVAL"
   ]
  },
  {
   "cell_type": "code",
   "execution_count": null,
   "metadata": {},
   "outputs": [],
   "source": [
    "random.seed(SEED)"
   ]
  },
  {
   "cell_type": "code",
   "execution_count": null,
   "metadata": {},
   "outputs": [],
   "source": [
    "ds = pd.read_csv(DATA)\n",
    "ds = ds.drop(labels=['#', 'Type 2', 'Total', 'Sp. Atk', 'Sp. Def', 'Generation'], axis=1)\n",
    "ds = ds.rename({'Type 1': 'Type'}, axis=1)\n",
    "ds.head()"
   ]
  },
  {
   "cell_type": "code",
   "execution_count": null,
   "metadata": {},
   "outputs": [],
   "source": [
    "pokemon = ds.sample(n=1)\n",
    "as_dict = pokemon.to_dict('records')[0]"
   ]
  },
  {
   "cell_type": "code",
   "execution_count": null,
   "metadata": {},
   "outputs": [],
   "source": [
    "pokemon"
   ]
  },
  {
   "cell_type": "code",
   "execution_count": null,
   "metadata": {
    "scrolled": true
   },
   "outputs": [],
   "source": [
    "as_dict"
   ]
  },
  {
   "cell_type": "code",
   "execution_count": null,
   "metadata": {},
   "outputs": [],
   "source": [
    "GAUSS_LAT_MADRID = COORDINATES['GAUSS_LAT_MADRID']\n",
    "GAUSS_LON_MADRID = COORDINATES['GAUSS_LON_MADRID']\n",
    "GAUSS_LAT_SEGOVIA = COORDINATES['GAUSS_LAT_SEGOVIA']\n",
    "GAUSS_LON_SEGOVIA = COORDINATES['GAUSS_LON_SEGOVIA']\n"
   ]
  },
  {
   "cell_type": "code",
   "execution_count": null,
   "metadata": {},
   "outputs": [],
   "source": [
    "as_dict['lat'] = random.gauss(**GAUSS_LAT_MADRID)\n",
    "as_dict['lon'] = random.gauss(**GAUSS_LON_MADRID)\n",
    "as_dict"
   ]
  },
  {
   "cell_type": "code",
   "execution_count": null,
   "metadata": {},
   "outputs": [],
   "source": [
    "json.dumps(as_dict)"
   ]
  },
  {
   "cell_type": "code",
   "execution_count": null,
   "metadata": {},
   "outputs": [],
   "source": [
    "TOPIC_POKEMONS"
   ]
  },
  {
   "cell_type": "code",
   "execution_count": null,
   "metadata": {
    "scrolled": true
   },
   "outputs": [],
   "source": [
    "p = Producer({'bootstrap.servers': 'localhost:9092'})\n",
    "\n",
    "def delivery_report(err, msg):\n",
    "    \"\"\" Called once for each message produced to indicate delivery result.\n",
    "        Triggered by poll() or flush(). \"\"\"\n",
    "    if err is not None:\n",
    "        print('Message delivery failed: {}'.format(err))\n",
    "    else:\n",
    "        pass\n",
    "        # print('Message delivered to {} [{}]'.format(msg.topic(), msg.partition()))\n",
    "\n",
    "while True:\n",
    "    pokemon = ds.sample(n=1)\n",
    "    pokemon = pokemon.to_dict('records')[0]\n",
    "\n",
    "    if random.randrange(0, 10, 1) < 5:\n",
    "        pokemon['lat'] = random.gauss(**GAUSS_LAT_MADRID)\n",
    "        pokemon['lon'] = random.gauss(**GAUSS_LON_MADRID)\n",
    "    else:\n",
    "        pokemon['lat'] = random.gauss(**GAUSS_LAT_SEGOVIA)\n",
    "        pokemon['lon'] = random.gauss(**GAUSS_LON_SEGOVIA)\n",
    "        \n",
    "\n",
    "    # execute any available delivery report callbacks from previous produce() calls\n",
    "    p.poll(0)\n",
    "\n",
    "    # Asynchronously produce a message, the delivery report callback\n",
    "    # will be triggered from poll() above, or flush() below, when the message has\n",
    "    # been successfully delivered or failed permanently.\n",
    "    print(\"Sending pokemon {Name}:{Type}:{lat}:{lon}\".format(**pokemon))\n",
    "    p.produce(\n",
    "        TOPIC_POKEMONS,\n",
    "        json.dumps(pokemon).encode('utf-8'),\n",
    "        callback=delivery_report\n",
    "    )\n",
    "    time.sleep(abs(random.gauss(MEAN_INTERVAL, 1)))\n",
    "\n",
    "# Wait for any outstanding messages to be delivered and delivery report\n",
    "# callbacks to be triggered.\n",
    "p.flush()\n"
   ]
  },
  {
   "cell_type": "code",
   "execution_count": null,
   "metadata": {},
   "outputs": [],
   "source": []
  }
 ],
 "metadata": {
  "kernelspec": {
   "display_name": "Python 3",
   "language": "python",
   "name": "python3"
  },
  "language_info": {
   "codemirror_mode": {
    "name": "ipython",
    "version": 3
   },
   "file_extension": ".py",
   "mimetype": "text/x-python",
   "name": "python",
   "nbconvert_exporter": "python",
   "pygments_lexer": "ipython3",
   "version": "3.7.2"
  }
 },
 "nbformat": 4,
 "nbformat_minor": 2
}
