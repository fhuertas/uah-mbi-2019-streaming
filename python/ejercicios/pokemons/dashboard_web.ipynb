{
 "cells": [
  {
   "cell_type": "markdown",
   "metadata": {},
   "source": [
    "# Dashboard v2\n",
    "\n",
    "Este pequeño dashboard mostrará el número de pokemos que han aparecido en el sistema y los usuarios con sesión abierta. El procesado es muy sencillo, pero nos obliga a mantener un estado.\n",
    "\n",
    "Este dashboard es idéntico al original en cuanto al tratamiento de streams, pero hemos añadido un simple servidor web que devuelve un pequeño HTML con los valores actuales de las métricas que recuperamos a partir de los streams. El servidor web arranca como un segundo thread, de manera que podemos, en un mismo proceso, mantener un estado (las métricas de pokemos y usuarios) y mostrarlo en una interfaz independiente de Kafka. De la misma manera que servimos un HTML simple podríamos ofrecer los datos en una API REST más sofisticada que alimentara una UI avanzada en, por ejemplo, Tableau, una app móvil o una applicación web."
   ]
  },
  {
   "cell_type": "code",
   "execution_count": null,
   "metadata": {},
   "outputs": [],
   "source": [
    "from confluent_kafka import Consumer, KafkaError\n",
    "import time\n",
    "import json\n",
    "\n",
    "from ejercicios.pokemons import TOPIC_USERS, TOPIC_POKEMONS, GROUP_DASHBOARD"
   ]
  },
  {
   "cell_type": "code",
   "execution_count": null,
   "metadata": {},
   "outputs": [],
   "source": [
    "pokemon_count = 0\n",
    "user_count = 0"
   ]
  },
  {
   "cell_type": "code",
   "execution_count": null,
   "metadata": {},
   "outputs": [],
   "source": [
    "from http.server import BaseHTTPRequestHandler, HTTPServer\n",
    "import threading\n",
    "    \n",
    "template = \"\"\"<html>\n",
    "<head>\n",
    "<link rel=\"stylesheet\" href=\"https://stackpath.bootstrapcdn.com/bootstrap/4.3.1/css/bootstrap.min.css\" integrity=\"sha384-ggOyR0iXCbMQv3Xipma34MD+dH/1fQ784/j6cY/iJTQUOhcWr7x9JvoRxT2MZw1T\" crossorigin=\"anonymous\">\n",
    "</head>\n",
    "<body>\n",
    "<div class=\"ml-5 mt-5\">\n",
    "<h1>Pokemon GO</h1>\n",
    "<div class=\"row\">\n",
    "  <div class=\"col-sm-2\">Pokemons:</div>\n",
    "  <div class=\"col-sm-10 font-weight-bold\">{0}</div>\n",
    "</div>\n",
    "\n",
    "<div class=\"row\">\n",
    "  <div class=\"col-sm-2\">Online users:</div>\n",
    "  <div class=\"col-sm-10 font-weight-bold\">{1}</div>\n",
    "</div>\n",
    "</div>\n",
    "</body></html>\n",
    "\"\"\"\n",
    "\n",
    "class DashboardHandler(BaseHTTPRequestHandler):\n",
    "    \n",
    "    def do_GET(self):\n",
    "        # Este método devuelve siempre el HTML sin tener en cuenta cabeceras ni path.\n",
    "        # Es dinámico ya que renderizamos el template con las métricas cada vez\n",
    "        # que servimos una petición.\n",
    "        global pokemon_count\n",
    "        global user_count\n",
    "        self.send_response(200, \"OK\")\n",
    "        self.end_headers()\n",
    "        self.wfile.write(template.format(pokemon_count, user_count).encode())\n",
    "\n",
    "def run_http():\n",
    "    server_address = ('', 8000)\n",
    "    httpd = HTTPServer(server_address, DashboardHandler)\n",
    "    httpd.serve_forever()\n",
    "\n"
   ]
  },
  {
   "cell_type": "code",
   "execution_count": null,
   "metadata": {},
   "outputs": [],
   "source": [
    "thread_out = threading.Thread(target=run_http)\n",
    "thread_out.start()"
   ]
  },
  {
   "cell_type": "markdown",
   "metadata": {},
   "source": [
    "Ahora podemos acceder al dashboard en http://192.168.53.3:8000/"
   ]
  },
  {
   "cell_type": "code",
   "execution_count": null,
   "metadata": {},
   "outputs": [],
   "source": [
    "c = Consumer({\n",
    "    'bootstrap.servers': 'localhost:9092',\n",
    "    'group.id': GROUP_DASHBOARD + \"_web\",\n",
    "    'auto.offset.reset': 'earliest'\n",
    "})\n",
    "c.subscribe([TOPIC_USERS, TOPIC_POKEMONS])\n",
    "\n",
    "while True:\n",
    "    msg = c.poll(5.0)\n",
    "\n",
    "\n",
    "    if msg is None:\n",
    "        continue\n",
    "\n",
    "    if msg.error():\n",
    "        print(\"Consumer error: {}\".format(msg.error()))\n",
    "        continue\n",
    "\n",
    "    if msg.topic() == TOPIC_POKEMONS:\n",
    "        pokemon_count += 1\n",
    "    elif msg.topic() == TOPIC_USERS:\n",
    "        if msg.value() is None:\n",
    "            user_count -= 1\n",
    "        else:\n",
    "            user_count += 1\n",
    "\n",
    "    print(\"Pokemons: {} | Logged users: {}\".format(pokemon_count, user_count))    \n",
    "    \n",
    "c.close()"
   ]
  },
  {
   "cell_type": "code",
   "execution_count": null,
   "metadata": {},
   "outputs": [],
   "source": []
  }
 ],
 "metadata": {
  "kernelspec": {
   "display_name": "Python 3",
   "language": "python",
   "name": "python3"
  },
  "language_info": {
   "codemirror_mode": {
    "name": "ipython",
    "version": 3
   },
   "file_extension": ".py",
   "mimetype": "text/x-python",
   "name": "python",
   "nbconvert_exporter": "python",
   "pygments_lexer": "ipython3",
   "version": "3.7.2"
  }
 },
 "nbformat": 4,
 "nbformat_minor": 2
}
